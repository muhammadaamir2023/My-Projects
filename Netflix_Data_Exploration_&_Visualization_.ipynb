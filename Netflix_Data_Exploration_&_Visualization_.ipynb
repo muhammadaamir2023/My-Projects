{
  "nbformat": 4,
  "nbformat_minor": 0,
  "metadata": {
    "colab": {
      "provenance": [],
      "include_colab_link": true
    },
    "kernelspec": {
      "name": "python3",
      "display_name": "Python 3"
    },
    "language_info": {
      "name": "python"
    }
  },
  "cells": [
    {
      "cell_type": "markdown",
      "metadata": {
        "id": "view-in-github",
        "colab_type": "text"
      },
      "source": [
        "<a href=\"https://colab.research.google.com/github/muhammadaamir2023/My-Projects/blob/main/Netflix_Data_Exploration_%26_Visualization_.ipynb\" target=\"_parent\"><img src=\"https://colab.research.google.com/assets/colab-badge.svg\" alt=\"Open In Colab\"/></a>"
      ]
    },
    {
      "cell_type": "code",
      "source": [
        "import pandas as pd\n",
        "import numpy as np\n",
        "import matplotlib.pyplot as plt\n",
        "import seaborn as sns"
      ],
      "metadata": {
        "id": "3TGFrPSGeOtk"
      },
      "execution_count": 2,
      "outputs": []
    },
    {
      "cell_type": "code",
      "source": [
        "df = pd.read_csv(\"netflix.csv\")\n",
        "df.head()"
      ],
      "metadata": {
        "colab": {
          "base_uri": "https://localhost:8080/",
          "height": 293
        },
        "id": "JF1ExwLyej-V",
        "outputId": "47fbbd37-ada7-412d-a69e-e2099547e73f"
      },
      "execution_count": 5,
      "outputs": [
        {
          "output_type": "execute_result",
          "data": {
            "text/plain": [
              "  show_id     type                  title         director  \\\n",
              "0      s1    Movie   Dick Johnson Is Dead  Kirsten Johnson   \n",
              "1      s2  TV Show          Blood & Water              NaN   \n",
              "2      s3  TV Show              Ganglands  Julien Leclercq   \n",
              "3      s4  TV Show  Jailbirds New Orleans              NaN   \n",
              "4      s5  TV Show           Kota Factory              NaN   \n",
              "\n",
              "                                                cast        country  \\\n",
              "0                                                NaN  United States   \n",
              "1  Ama Qamata, Khosi Ngema, Gail Mabalane, Thaban...   South Africa   \n",
              "2  Sami Bouajila, Tracy Gotoas, Samuel Jouy, Nabi...            NaN   \n",
              "3                                                NaN            NaN   \n",
              "4  Mayur More, Jitendra Kumar, Ranjan Raj, Alam K...          India   \n",
              "\n",
              "           date_added  release_year rating   duration  \\\n",
              "0  September 25, 2021          2020  PG-13     90 min   \n",
              "1  September 24, 2021          2021  TV-MA  2 Seasons   \n",
              "2  September 24, 2021          2021  TV-MA   1 Season   \n",
              "3  September 24, 2021          2021  TV-MA   1 Season   \n",
              "4  September 24, 2021          2021  TV-MA  2 Seasons   \n",
              "\n",
              "                                           listed_in  \\\n",
              "0                                      Documentaries   \n",
              "1    International TV Shows, TV Dramas, TV Mysteries   \n",
              "2  Crime TV Shows, International TV Shows, TV Act...   \n",
              "3                             Docuseries, Reality TV   \n",
              "4  International TV Shows, Romantic TV Shows, TV ...   \n",
              "\n",
              "                                         description  \n",
              "0  As her father nears the end of his life, filmm...  \n",
              "1  After crossing paths at a party, a Cape Town t...  \n",
              "2  To protect his family from a powerful drug lor...  \n",
              "3  Feuds, flirtations and toilet talk go down amo...  \n",
              "4  In a city of coaching centers known to train I...  "
            ],
            "text/html": [
              "\n",
              "  <div id=\"df-8ce0d280-3e61-4b01-b197-9ba52c56e149\" class=\"colab-df-container\">\n",
              "    <div>\n",
              "<style scoped>\n",
              "    .dataframe tbody tr th:only-of-type {\n",
              "        vertical-align: middle;\n",
              "    }\n",
              "\n",
              "    .dataframe tbody tr th {\n",
              "        vertical-align: top;\n",
              "    }\n",
              "\n",
              "    .dataframe thead th {\n",
              "        text-align: right;\n",
              "    }\n",
              "</style>\n",
              "<table border=\"1\" class=\"dataframe\">\n",
              "  <thead>\n",
              "    <tr style=\"text-align: right;\">\n",
              "      <th></th>\n",
              "      <th>show_id</th>\n",
              "      <th>type</th>\n",
              "      <th>title</th>\n",
              "      <th>director</th>\n",
              "      <th>cast</th>\n",
              "      <th>country</th>\n",
              "      <th>date_added</th>\n",
              "      <th>release_year</th>\n",
              "      <th>rating</th>\n",
              "      <th>duration</th>\n",
              "      <th>listed_in</th>\n",
              "      <th>description</th>\n",
              "    </tr>\n",
              "  </thead>\n",
              "  <tbody>\n",
              "    <tr>\n",
              "      <th>0</th>\n",
              "      <td>s1</td>\n",
              "      <td>Movie</td>\n",
              "      <td>Dick Johnson Is Dead</td>\n",
              "      <td>Kirsten Johnson</td>\n",
              "      <td>NaN</td>\n",
              "      <td>United States</td>\n",
              "      <td>September 25, 2021</td>\n",
              "      <td>2020</td>\n",
              "      <td>PG-13</td>\n",
              "      <td>90 min</td>\n",
              "      <td>Documentaries</td>\n",
              "      <td>As her father nears the end of his life, filmm...</td>\n",
              "    </tr>\n",
              "    <tr>\n",
              "      <th>1</th>\n",
              "      <td>s2</td>\n",
              "      <td>TV Show</td>\n",
              "      <td>Blood &amp; Water</td>\n",
              "      <td>NaN</td>\n",
              "      <td>Ama Qamata, Khosi Ngema, Gail Mabalane, Thaban...</td>\n",
              "      <td>South Africa</td>\n",
              "      <td>September 24, 2021</td>\n",
              "      <td>2021</td>\n",
              "      <td>TV-MA</td>\n",
              "      <td>2 Seasons</td>\n",
              "      <td>International TV Shows, TV Dramas, TV Mysteries</td>\n",
              "      <td>After crossing paths at a party, a Cape Town t...</td>\n",
              "    </tr>\n",
              "    <tr>\n",
              "      <th>2</th>\n",
              "      <td>s3</td>\n",
              "      <td>TV Show</td>\n",
              "      <td>Ganglands</td>\n",
              "      <td>Julien Leclercq</td>\n",
              "      <td>Sami Bouajila, Tracy Gotoas, Samuel Jouy, Nabi...</td>\n",
              "      <td>NaN</td>\n",
              "      <td>September 24, 2021</td>\n",
              "      <td>2021</td>\n",
              "      <td>TV-MA</td>\n",
              "      <td>1 Season</td>\n",
              "      <td>Crime TV Shows, International TV Shows, TV Act...</td>\n",
              "      <td>To protect his family from a powerful drug lor...</td>\n",
              "    </tr>\n",
              "    <tr>\n",
              "      <th>3</th>\n",
              "      <td>s4</td>\n",
              "      <td>TV Show</td>\n",
              "      <td>Jailbirds New Orleans</td>\n",
              "      <td>NaN</td>\n",
              "      <td>NaN</td>\n",
              "      <td>NaN</td>\n",
              "      <td>September 24, 2021</td>\n",
              "      <td>2021</td>\n",
              "      <td>TV-MA</td>\n",
              "      <td>1 Season</td>\n",
              "      <td>Docuseries, Reality TV</td>\n",
              "      <td>Feuds, flirtations and toilet talk go down amo...</td>\n",
              "    </tr>\n",
              "    <tr>\n",
              "      <th>4</th>\n",
              "      <td>s5</td>\n",
              "      <td>TV Show</td>\n",
              "      <td>Kota Factory</td>\n",
              "      <td>NaN</td>\n",
              "      <td>Mayur More, Jitendra Kumar, Ranjan Raj, Alam K...</td>\n",
              "      <td>India</td>\n",
              "      <td>September 24, 2021</td>\n",
              "      <td>2021</td>\n",
              "      <td>TV-MA</td>\n",
              "      <td>2 Seasons</td>\n",
              "      <td>International TV Shows, Romantic TV Shows, TV ...</td>\n",
              "      <td>In a city of coaching centers known to train I...</td>\n",
              "    </tr>\n",
              "  </tbody>\n",
              "</table>\n",
              "</div>\n",
              "    <div class=\"colab-df-buttons\">\n",
              "\n",
              "  <div class=\"colab-df-container\">\n",
              "    <button class=\"colab-df-convert\" onclick=\"convertToInteractive('df-8ce0d280-3e61-4b01-b197-9ba52c56e149')\"\n",
              "            title=\"Convert this dataframe to an interactive table.\"\n",
              "            style=\"display:none;\">\n",
              "\n",
              "  <svg xmlns=\"http://www.w3.org/2000/svg\" height=\"24px\" viewBox=\"0 -960 960 960\">\n",
              "    <path d=\"M120-120v-720h720v720H120Zm60-500h600v-160H180v160Zm220 220h160v-160H400v160Zm0 220h160v-160H400v160ZM180-400h160v-160H180v160Zm440 0h160v-160H620v160ZM180-180h160v-160H180v160Zm440 0h160v-160H620v160Z\"/>\n",
              "  </svg>\n",
              "    </button>\n",
              "\n",
              "  <style>\n",
              "    .colab-df-container {\n",
              "      display:flex;\n",
              "      gap: 12px;\n",
              "    }\n",
              "\n",
              "    .colab-df-convert {\n",
              "      background-color: #E8F0FE;\n",
              "      border: none;\n",
              "      border-radius: 50%;\n",
              "      cursor: pointer;\n",
              "      display: none;\n",
              "      fill: #1967D2;\n",
              "      height: 32px;\n",
              "      padding: 0 0 0 0;\n",
              "      width: 32px;\n",
              "    }\n",
              "\n",
              "    .colab-df-convert:hover {\n",
              "      background-color: #E2EBFA;\n",
              "      box-shadow: 0px 1px 2px rgba(60, 64, 67, 0.3), 0px 1px 3px 1px rgba(60, 64, 67, 0.15);\n",
              "      fill: #174EA6;\n",
              "    }\n",
              "\n",
              "    .colab-df-buttons div {\n",
              "      margin-bottom: 4px;\n",
              "    }\n",
              "\n",
              "    [theme=dark] .colab-df-convert {\n",
              "      background-color: #3B4455;\n",
              "      fill: #D2E3FC;\n",
              "    }\n",
              "\n",
              "    [theme=dark] .colab-df-convert:hover {\n",
              "      background-color: #434B5C;\n",
              "      box-shadow: 0px 1px 3px 1px rgba(0, 0, 0, 0.15);\n",
              "      filter: drop-shadow(0px 1px 2px rgba(0, 0, 0, 0.3));\n",
              "      fill: #FFFFFF;\n",
              "    }\n",
              "  </style>\n",
              "\n",
              "    <script>\n",
              "      const buttonEl =\n",
              "        document.querySelector('#df-8ce0d280-3e61-4b01-b197-9ba52c56e149 button.colab-df-convert');\n",
              "      buttonEl.style.display =\n",
              "        google.colab.kernel.accessAllowed ? 'block' : 'none';\n",
              "\n",
              "      async function convertToInteractive(key) {\n",
              "        const element = document.querySelector('#df-8ce0d280-3e61-4b01-b197-9ba52c56e149');\n",
              "        const dataTable =\n",
              "          await google.colab.kernel.invokeFunction('convertToInteractive',\n",
              "                                                    [key], {});\n",
              "        if (!dataTable) return;\n",
              "\n",
              "        const docLinkHtml = 'Like what you see? Visit the ' +\n",
              "          '<a target=\"_blank\" href=https://colab.research.google.com/notebooks/data_table.ipynb>data table notebook</a>'\n",
              "          + ' to learn more about interactive tables.';\n",
              "        element.innerHTML = '';\n",
              "        dataTable['output_type'] = 'display_data';\n",
              "        await google.colab.output.renderOutput(dataTable, element);\n",
              "        const docLink = document.createElement('div');\n",
              "        docLink.innerHTML = docLinkHtml;\n",
              "        element.appendChild(docLink);\n",
              "      }\n",
              "    </script>\n",
              "  </div>\n",
              "\n",
              "\n",
              "<div id=\"df-96850853-70d4-4ded-b158-ae4f6cd335c2\">\n",
              "  <button class=\"colab-df-quickchart\" onclick=\"quickchart('df-96850853-70d4-4ded-b158-ae4f6cd335c2')\"\n",
              "            title=\"Suggest charts\"\n",
              "            style=\"display:none;\">\n",
              "\n",
              "<svg xmlns=\"http://www.w3.org/2000/svg\" height=\"24px\"viewBox=\"0 0 24 24\"\n",
              "     width=\"24px\">\n",
              "    <g>\n",
              "        <path d=\"M19 3H5c-1.1 0-2 .9-2 2v14c0 1.1.9 2 2 2h14c1.1 0 2-.9 2-2V5c0-1.1-.9-2-2-2zM9 17H7v-7h2v7zm4 0h-2V7h2v10zm4 0h-2v-4h2v4z\"/>\n",
              "    </g>\n",
              "</svg>\n",
              "  </button>\n",
              "\n",
              "<style>\n",
              "  .colab-df-quickchart {\n",
              "      --bg-color: #E8F0FE;\n",
              "      --fill-color: #1967D2;\n",
              "      --hover-bg-color: #E2EBFA;\n",
              "      --hover-fill-color: #174EA6;\n",
              "      --disabled-fill-color: #AAA;\n",
              "      --disabled-bg-color: #DDD;\n",
              "  }\n",
              "\n",
              "  [theme=dark] .colab-df-quickchart {\n",
              "      --bg-color: #3B4455;\n",
              "      --fill-color: #D2E3FC;\n",
              "      --hover-bg-color: #434B5C;\n",
              "      --hover-fill-color: #FFFFFF;\n",
              "      --disabled-bg-color: #3B4455;\n",
              "      --disabled-fill-color: #666;\n",
              "  }\n",
              "\n",
              "  .colab-df-quickchart {\n",
              "    background-color: var(--bg-color);\n",
              "    border: none;\n",
              "    border-radius: 50%;\n",
              "    cursor: pointer;\n",
              "    display: none;\n",
              "    fill: var(--fill-color);\n",
              "    height: 32px;\n",
              "    padding: 0;\n",
              "    width: 32px;\n",
              "  }\n",
              "\n",
              "  .colab-df-quickchart:hover {\n",
              "    background-color: var(--hover-bg-color);\n",
              "    box-shadow: 0 1px 2px rgba(60, 64, 67, 0.3), 0 1px 3px 1px rgba(60, 64, 67, 0.15);\n",
              "    fill: var(--button-hover-fill-color);\n",
              "  }\n",
              "\n",
              "  .colab-df-quickchart-complete:disabled,\n",
              "  .colab-df-quickchart-complete:disabled:hover {\n",
              "    background-color: var(--disabled-bg-color);\n",
              "    fill: var(--disabled-fill-color);\n",
              "    box-shadow: none;\n",
              "  }\n",
              "\n",
              "  .colab-df-spinner {\n",
              "    border: 2px solid var(--fill-color);\n",
              "    border-color: transparent;\n",
              "    border-bottom-color: var(--fill-color);\n",
              "    animation:\n",
              "      spin 1s steps(1) infinite;\n",
              "  }\n",
              "\n",
              "  @keyframes spin {\n",
              "    0% {\n",
              "      border-color: transparent;\n",
              "      border-bottom-color: var(--fill-color);\n",
              "      border-left-color: var(--fill-color);\n",
              "    }\n",
              "    20% {\n",
              "      border-color: transparent;\n",
              "      border-left-color: var(--fill-color);\n",
              "      border-top-color: var(--fill-color);\n",
              "    }\n",
              "    30% {\n",
              "      border-color: transparent;\n",
              "      border-left-color: var(--fill-color);\n",
              "      border-top-color: var(--fill-color);\n",
              "      border-right-color: var(--fill-color);\n",
              "    }\n",
              "    40% {\n",
              "      border-color: transparent;\n",
              "      border-right-color: var(--fill-color);\n",
              "      border-top-color: var(--fill-color);\n",
              "    }\n",
              "    60% {\n",
              "      border-color: transparent;\n",
              "      border-right-color: var(--fill-color);\n",
              "    }\n",
              "    80% {\n",
              "      border-color: transparent;\n",
              "      border-right-color: var(--fill-color);\n",
              "      border-bottom-color: var(--fill-color);\n",
              "    }\n",
              "    90% {\n",
              "      border-color: transparent;\n",
              "      border-bottom-color: var(--fill-color);\n",
              "    }\n",
              "  }\n",
              "</style>\n",
              "\n",
              "  <script>\n",
              "    async function quickchart(key) {\n",
              "      const quickchartButtonEl =\n",
              "        document.querySelector('#' + key + ' button');\n",
              "      quickchartButtonEl.disabled = true;  // To prevent multiple clicks.\n",
              "      quickchartButtonEl.classList.add('colab-df-spinner');\n",
              "      try {\n",
              "        const charts = await google.colab.kernel.invokeFunction(\n",
              "            'suggestCharts', [key], {});\n",
              "      } catch (error) {\n",
              "        console.error('Error during call to suggestCharts:', error);\n",
              "      }\n",
              "      quickchartButtonEl.classList.remove('colab-df-spinner');\n",
              "      quickchartButtonEl.classList.add('colab-df-quickchart-complete');\n",
              "    }\n",
              "    (() => {\n",
              "      let quickchartButtonEl =\n",
              "        document.querySelector('#df-96850853-70d4-4ded-b158-ae4f6cd335c2 button');\n",
              "      quickchartButtonEl.style.display =\n",
              "        google.colab.kernel.accessAllowed ? 'block' : 'none';\n",
              "    })();\n",
              "  </script>\n",
              "</div>\n",
              "\n",
              "    </div>\n",
              "  </div>\n"
            ],
            "application/vnd.google.colaboratory.intrinsic+json": {
              "type": "dataframe",
              "variable_name": "df",
              "summary": "{\n  \"name\": \"df\",\n  \"rows\": 8807,\n  \"fields\": [\n    {\n      \"column\": \"show_id\",\n      \"properties\": {\n        \"dtype\": \"string\",\n        \"num_unique_values\": 8807,\n        \"samples\": [\n          \"s4971\",\n          \"s3363\",\n          \"s5495\"\n        ],\n        \"semantic_type\": \"\",\n        \"description\": \"\"\n      }\n    },\n    {\n      \"column\": \"type\",\n      \"properties\": {\n        \"dtype\": \"category\",\n        \"num_unique_values\": 2,\n        \"samples\": [\n          \"TV Show\",\n          \"Movie\"\n        ],\n        \"semantic_type\": \"\",\n        \"description\": \"\"\n      }\n    },\n    {\n      \"column\": \"title\",\n      \"properties\": {\n        \"dtype\": \"string\",\n        \"num_unique_values\": 8807,\n        \"samples\": [\n          \"Game Over, Man!\",\n          \"Arsenio Hall: Smart & Classy\"\n        ],\n        \"semantic_type\": \"\",\n        \"description\": \"\"\n      }\n    },\n    {\n      \"column\": \"director\",\n      \"properties\": {\n        \"dtype\": \"string\",\n        \"num_unique_values\": 4528,\n        \"samples\": [\n          \"Kanwal Sethi\",\n          \"R\\u00e9my Four, Julien War\"\n        ],\n        \"semantic_type\": \"\",\n        \"description\": \"\"\n      }\n    },\n    {\n      \"column\": \"cast\",\n      \"properties\": {\n        \"dtype\": \"string\",\n        \"num_unique_values\": 7692,\n        \"samples\": [\n          \"Tzi Ma, Christine Ko, Hong-Chi Lee, Hayden Szeto, Kunjue Li, Fiona Fu, James Saito, Joan Chen\",\n          \"Priyanshu Painyuli, Chandrachoor Rai, Shadab Kamal, Rajeev Siddhartha, Sheetal Thakur, Ninad Kamat, Swati Semwal, Eijaz Khan\"\n        ],\n        \"semantic_type\": \"\",\n        \"description\": \"\"\n      }\n    },\n    {\n      \"column\": \"country\",\n      \"properties\": {\n        \"dtype\": \"category\",\n        \"num_unique_values\": 748,\n        \"samples\": [\n          \"United States, United Kingdom, Denmark, Sweden\",\n          \"United Kingdom, Hong Kong\"\n        ],\n        \"semantic_type\": \"\",\n        \"description\": \"\"\n      }\n    },\n    {\n      \"column\": \"date_added\",\n      \"properties\": {\n        \"dtype\": \"category\",\n        \"num_unique_values\": 1767,\n        \"samples\": [\n          \"October 22, 2018\",\n          \"January 29, 2021\"\n        ],\n        \"semantic_type\": \"\",\n        \"description\": \"\"\n      }\n    },\n    {\n      \"column\": \"release_year\",\n      \"properties\": {\n        \"dtype\": \"number\",\n        \"std\": 8,\n        \"min\": 1925,\n        \"max\": 2021,\n        \"num_unique_values\": 74,\n        \"samples\": [\n          1996,\n          1969\n        ],\n        \"semantic_type\": \"\",\n        \"description\": \"\"\n      }\n    },\n    {\n      \"column\": \"rating\",\n      \"properties\": {\n        \"dtype\": \"category\",\n        \"num_unique_values\": 17,\n        \"samples\": [\n          \"PG-13\",\n          \"TV-MA\"\n        ],\n        \"semantic_type\": \"\",\n        \"description\": \"\"\n      }\n    },\n    {\n      \"column\": \"duration\",\n      \"properties\": {\n        \"dtype\": \"category\",\n        \"num_unique_values\": 220,\n        \"samples\": [\n          \"37 min\",\n          \"177 min\"\n        ],\n        \"semantic_type\": \"\",\n        \"description\": \"\"\n      }\n    },\n    {\n      \"column\": \"listed_in\",\n      \"properties\": {\n        \"dtype\": \"category\",\n        \"num_unique_values\": 514,\n        \"samples\": [\n          \"Crime TV Shows, International TV Shows, TV Mysteries\",\n          \"Children & Family Movies, Classic Movies, Dramas\"\n        ],\n        \"semantic_type\": \"\",\n        \"description\": \"\"\n      }\n    },\n    {\n      \"column\": \"description\",\n      \"properties\": {\n        \"dtype\": \"string\",\n        \"num_unique_values\": 8775,\n        \"samples\": [\n          \"A heedless teen drifter who falls for a small-town waitress makes the mistake of robbing a drug lord, putting his life and newfound love in jeopardy.\",\n          \"Twelve-year-old Calvin manages to join the navy and serves in the battle of Guadalcanal. But when his age is revealed, the boy is sent to the brig.\"\n        ],\n        \"semantic_type\": \"\",\n        \"description\": \"\"\n      }\n    }\n  ]\n}"
            }
          },
          "metadata": {},
          "execution_count": 5
        }
      ]
    },
    {
      "cell_type": "code",
      "source": [
        "df.shape"
      ],
      "metadata": {
        "colab": {
          "base_uri": "https://localhost:8080/"
        },
        "id": "Xt1150ZHVX-Z",
        "outputId": "e5aa1f34-d1ef-4e87-d87b-27015938b9db"
      },
      "execution_count": 6,
      "outputs": [
        {
          "output_type": "execute_result",
          "data": {
            "text/plain": [
              "(8807, 12)"
            ]
          },
          "metadata": {},
          "execution_count": 6
        }
      ]
    },
    {
      "cell_type": "code",
      "source": [
        "df.info()"
      ],
      "metadata": {
        "colab": {
          "base_uri": "https://localhost:8080/"
        },
        "id": "7RBKagZCVlS5",
        "outputId": "56551689-f631-4587-a6e7-82cc025629cc"
      },
      "execution_count": 7,
      "outputs": [
        {
          "output_type": "stream",
          "name": "stdout",
          "text": [
            "<class 'pandas.core.frame.DataFrame'>\n",
            "RangeIndex: 8807 entries, 0 to 8806\n",
            "Data columns (total 12 columns):\n",
            " #   Column        Non-Null Count  Dtype \n",
            "---  ------        --------------  ----- \n",
            " 0   show_id       8807 non-null   object\n",
            " 1   type          8807 non-null   object\n",
            " 2   title         8807 non-null   object\n",
            " 3   director      6173 non-null   object\n",
            " 4   cast          7982 non-null   object\n",
            " 5   country       7976 non-null   object\n",
            " 6   date_added    8797 non-null   object\n",
            " 7   release_year  8807 non-null   int64 \n",
            " 8   rating        8803 non-null   object\n",
            " 9   duration      8804 non-null   object\n",
            " 10  listed_in     8807 non-null   object\n",
            " 11  description   8807 non-null   object\n",
            "dtypes: int64(1), object(11)\n",
            "memory usage: 825.8+ KB\n"
          ]
        }
      ]
    },
    {
      "cell_type": "code",
      "source": [
        "df[\"type\"].value_counts()"
      ],
      "metadata": {
        "colab": {
          "base_uri": "https://localhost:8080/",
          "height": 178
        },
        "id": "rZgRXDA2ick0",
        "outputId": "e8512dbb-c578-4727-d010-384a5d34e00b"
      },
      "execution_count": 8,
      "outputs": [
        {
          "output_type": "execute_result",
          "data": {
            "text/plain": [
              "type\n",
              "Movie      6131\n",
              "TV Show    2676\n",
              "Name: count, dtype: int64"
            ],
            "text/html": [
              "<div>\n",
              "<style scoped>\n",
              "    .dataframe tbody tr th:only-of-type {\n",
              "        vertical-align: middle;\n",
              "    }\n",
              "\n",
              "    .dataframe tbody tr th {\n",
              "        vertical-align: top;\n",
              "    }\n",
              "\n",
              "    .dataframe thead th {\n",
              "        text-align: right;\n",
              "    }\n",
              "</style>\n",
              "<table border=\"1\" class=\"dataframe\">\n",
              "  <thead>\n",
              "    <tr style=\"text-align: right;\">\n",
              "      <th></th>\n",
              "      <th>count</th>\n",
              "    </tr>\n",
              "    <tr>\n",
              "      <th>type</th>\n",
              "      <th></th>\n",
              "    </tr>\n",
              "  </thead>\n",
              "  <tbody>\n",
              "    <tr>\n",
              "      <th>Movie</th>\n",
              "      <td>6131</td>\n",
              "    </tr>\n",
              "    <tr>\n",
              "      <th>TV Show</th>\n",
              "      <td>2676</td>\n",
              "    </tr>\n",
              "  </tbody>\n",
              "</table>\n",
              "</div><br><label><b>dtype:</b> int64</label>"
            ]
          },
          "metadata": {},
          "execution_count": 8
        }
      ]
    },
    {
      "cell_type": "code",
      "source": [
        "df[\"country\"].value_counts()"
      ],
      "metadata": {
        "colab": {
          "base_uri": "https://localhost:8080/",
          "height": 490
        },
        "id": "y2ITxbrmisjH",
        "outputId": "b8a7305a-85c8-4105-921c-713541b995e5"
      },
      "execution_count": 9,
      "outputs": [
        {
          "output_type": "execute_result",
          "data": {
            "text/plain": [
              "country\n",
              "United States                                                      2818\n",
              "India                                                               972\n",
              "United Kingdom                                                      419\n",
              "Japan                                                               245\n",
              "South Korea                                                         199\n",
              "                                                                   ... \n",
              "Mexico, United States, Spain, Colombia                                1\n",
              "Canada, Norway                                                        1\n",
              "Finland, Germany, Belgium                                             1\n",
              "Argentina, United States, Mexico                                      1\n",
              "United Kingdom, United States, Germany, Denmark, Belgium, Japan       1\n",
              "Name: count, Length: 748, dtype: int64"
            ],
            "text/html": [
              "<div>\n",
              "<style scoped>\n",
              "    .dataframe tbody tr th:only-of-type {\n",
              "        vertical-align: middle;\n",
              "    }\n",
              "\n",
              "    .dataframe tbody tr th {\n",
              "        vertical-align: top;\n",
              "    }\n",
              "\n",
              "    .dataframe thead th {\n",
              "        text-align: right;\n",
              "    }\n",
              "</style>\n",
              "<table border=\"1\" class=\"dataframe\">\n",
              "  <thead>\n",
              "    <tr style=\"text-align: right;\">\n",
              "      <th></th>\n",
              "      <th>count</th>\n",
              "    </tr>\n",
              "    <tr>\n",
              "      <th>country</th>\n",
              "      <th></th>\n",
              "    </tr>\n",
              "  </thead>\n",
              "  <tbody>\n",
              "    <tr>\n",
              "      <th>United States</th>\n",
              "      <td>2818</td>\n",
              "    </tr>\n",
              "    <tr>\n",
              "      <th>India</th>\n",
              "      <td>972</td>\n",
              "    </tr>\n",
              "    <tr>\n",
              "      <th>United Kingdom</th>\n",
              "      <td>419</td>\n",
              "    </tr>\n",
              "    <tr>\n",
              "      <th>Japan</th>\n",
              "      <td>245</td>\n",
              "    </tr>\n",
              "    <tr>\n",
              "      <th>South Korea</th>\n",
              "      <td>199</td>\n",
              "    </tr>\n",
              "    <tr>\n",
              "      <th>...</th>\n",
              "      <td>...</td>\n",
              "    </tr>\n",
              "    <tr>\n",
              "      <th>Mexico, United States, Spain, Colombia</th>\n",
              "      <td>1</td>\n",
              "    </tr>\n",
              "    <tr>\n",
              "      <th>Canada, Norway</th>\n",
              "      <td>1</td>\n",
              "    </tr>\n",
              "    <tr>\n",
              "      <th>Finland, Germany, Belgium</th>\n",
              "      <td>1</td>\n",
              "    </tr>\n",
              "    <tr>\n",
              "      <th>Argentina, United States, Mexico</th>\n",
              "      <td>1</td>\n",
              "    </tr>\n",
              "    <tr>\n",
              "      <th>United Kingdom, United States, Germany, Denmark, Belgium, Japan</th>\n",
              "      <td>1</td>\n",
              "    </tr>\n",
              "  </tbody>\n",
              "</table>\n",
              "<p>748 rows × 1 columns</p>\n",
              "</div><br><label><b>dtype:</b> int64</label>"
            ]
          },
          "metadata": {},
          "execution_count": 9
        }
      ]
    },
    {
      "cell_type": "code",
      "source": [
        "df[\"release_year\"].value_counts()"
      ],
      "metadata": {
        "colab": {
          "base_uri": "https://localhost:8080/",
          "height": 490
        },
        "id": "qMlzdF7u8FVe",
        "outputId": "25768976-e726-4914-f4a3-7a45649dc20d"
      },
      "execution_count": 10,
      "outputs": [
        {
          "output_type": "execute_result",
          "data": {
            "text/plain": [
              "release_year\n",
              "2018    1147\n",
              "2017    1032\n",
              "2019    1030\n",
              "2020     953\n",
              "2016     902\n",
              "        ... \n",
              "1961       1\n",
              "1925       1\n",
              "1959       1\n",
              "1966       1\n",
              "1947       1\n",
              "Name: count, Length: 74, dtype: int64"
            ],
            "text/html": [
              "<div>\n",
              "<style scoped>\n",
              "    .dataframe tbody tr th:only-of-type {\n",
              "        vertical-align: middle;\n",
              "    }\n",
              "\n",
              "    .dataframe tbody tr th {\n",
              "        vertical-align: top;\n",
              "    }\n",
              "\n",
              "    .dataframe thead th {\n",
              "        text-align: right;\n",
              "    }\n",
              "</style>\n",
              "<table border=\"1\" class=\"dataframe\">\n",
              "  <thead>\n",
              "    <tr style=\"text-align: right;\">\n",
              "      <th></th>\n",
              "      <th>count</th>\n",
              "    </tr>\n",
              "    <tr>\n",
              "      <th>release_year</th>\n",
              "      <th></th>\n",
              "    </tr>\n",
              "  </thead>\n",
              "  <tbody>\n",
              "    <tr>\n",
              "      <th>2018</th>\n",
              "      <td>1147</td>\n",
              "    </tr>\n",
              "    <tr>\n",
              "      <th>2017</th>\n",
              "      <td>1032</td>\n",
              "    </tr>\n",
              "    <tr>\n",
              "      <th>2019</th>\n",
              "      <td>1030</td>\n",
              "    </tr>\n",
              "    <tr>\n",
              "      <th>2020</th>\n",
              "      <td>953</td>\n",
              "    </tr>\n",
              "    <tr>\n",
              "      <th>2016</th>\n",
              "      <td>902</td>\n",
              "    </tr>\n",
              "    <tr>\n",
              "      <th>...</th>\n",
              "      <td>...</td>\n",
              "    </tr>\n",
              "    <tr>\n",
              "      <th>1961</th>\n",
              "      <td>1</td>\n",
              "    </tr>\n",
              "    <tr>\n",
              "      <th>1925</th>\n",
              "      <td>1</td>\n",
              "    </tr>\n",
              "    <tr>\n",
              "      <th>1959</th>\n",
              "      <td>1</td>\n",
              "    </tr>\n",
              "    <tr>\n",
              "      <th>1966</th>\n",
              "      <td>1</td>\n",
              "    </tr>\n",
              "    <tr>\n",
              "      <th>1947</th>\n",
              "      <td>1</td>\n",
              "    </tr>\n",
              "  </tbody>\n",
              "</table>\n",
              "<p>74 rows × 1 columns</p>\n",
              "</div><br><label><b>dtype:</b> int64</label>"
            ]
          },
          "metadata": {},
          "execution_count": 10
        }
      ]
    },
    {
      "cell_type": "markdown",
      "source": [
        "1) How has the number of movies released per year changed over the last 20-30 years?"
      ],
      "metadata": {
        "id": "6REbyrBO8UrL"
      }
    },
    {
      "cell_type": "code",
      "source": [
        " movies_df = df[df[\"type\"]==\"Movie\"]\n",
        " movies_last_30_years = movies_df[movies_df[\"release_year\"]>1990]\n",
        " movies_per_year = movies_last_30_years[\"release_year\"].value_counts().sort_index()\n",
        " plt.figure(figsize=(12,5))\n",
        " movies_per_year.plot(kind=\"bar\",color=\"red\")\n",
        " plt.title(\"Number of Movies released Per Year\")\n",
        " plt.xlabel(\"Year\")\n",
        " plt.ylabel(\"Number of Movies\")\n",
        " plt.xticks(rotation=45)\n",
        " plt.show()"
      ],
      "metadata": {
        "colab": {
          "base_uri": "https://localhost:8080/",
          "height": 508
        },
        "id": "OLbV5enz8OGD",
        "outputId": "28c753b1-bf9c-4508-bf36-2123bf8642b7"
      },
      "execution_count": 13,
      "outputs": [
        {
          "output_type": "display_data",
          "data": {
            "text/plain": [
              "<Figure size 1200x500 with 1 Axes>"
            ],
            "image/png": "[encoded data removed]"
          },
          "metadata": {}
        }
      ]
    },
    {
      "cell_type": "markdown",
      "source": [
        "\n",
        " \n",
        " 2) Comparison of Tv Shows Vs Movies"
      ],
      "metadata": {
        "id": "3i6ML6Ga8qXb"
      }
    },
    {
      "cell_type": "code",
      "source": [
        " type_counts = df[\"type\"].value_counts()\n",
        " print(\"Number of Movies Vs Tv Shows :\")\n",
        " print(type_counts)"
      ],
      "metadata": {
        "colab": {
          "base_uri": "https://localhost:8080/"
        },
        "id": "kY3V038U8mtb",
        "outputId": "b822df80-8b83-469d-fb6f-6d395cf5a4be"
      },
      "execution_count": 14,
      "outputs": [
        {
          "output_type": "stream",
          "name": "stdout",
          "text": [
            "Number of Movies Vs Tv Shows :\n",
            "type\n",
            "Movie      6131\n",
            "TV Show    2676\n",
            "Name: count, dtype: int64\n"
          ]
        }
      ]
    },
    {
      "cell_type": "markdown",
      "source": [
        "3) What is the best time to launch a TV show?"
      ],
      "metadata": {
        "id": "xNnH4udx8zcZ"
      }
    },
    {
      "cell_type": "code",
      "source": [
        " tv_shows_df = df [df['type']=='TV Show']\n",
        " tv_shows_df['date_added'] = pd.to_datetime(tv_shows_df['date_added'],errors='coerce')\n",
        " tv_shows_df['month_added'] = tv_shows_df ['date_added'].dt.month\n",
        " tv_shows_df['year_added'] = tv_shows_df['date_added'].dt.year\n",
        " tv_shows_by_month_total = tv_shows_df ['month_added'].value_counts().sort_index()\n",
        " tv_shows_by_average_total = tv_shows_df.groupby('month_added').size().mean()\n",
        " print('Total number of TV shows added per month')\n",
        " print(tv_shows_by_month_total)\n",
        " print('\\nAverage number of TV shows added per month:')\n",
        " print(tv_shows_by_average_total)"
      ],
      "metadata": {
        "colab": {
          "base_uri": "https://localhost:8080/"
        },
        "id": "xECGw4108wJW",
        "outputId": "142785db-41f8-4ca9-cf3d-f07faadbad8a"
      },
      "execution_count": 17,
      "outputs": [
        {
          "output_type": "stream",
          "name": "stdout",
          "text": [
            "Total number of TV shows added per month\n",
            "month_added\n",
            "1.0     181\n",
            "2.0     175\n",
            "3.0     205\n",
            "4.0     209\n",
            "5.0     187\n",
            "6.0     232\n",
            "7.0     254\n",
            "8.0     230\n",
            "9.0     246\n",
            "10.0    210\n",
            "11.0    199\n",
            "12.0    250\n",
            "Name: count, dtype: int64\n",
            "\n",
            "Average number of TV shows added per month:\n",
            "214.83333333333334\n"
          ]
        },
        {
          "output_type": "stream",
          "name": "stderr",
          "text": [
            "<ipython-input-17-88f2beb9b17e>:2: SettingWithCopyWarning: \n",
            "A value is trying to be set on a copy of a slice from a DataFrame.\n",
            "Try using .loc[row_indexer,col_indexer] = value instead\n",
            "\n",
            "See the caveats in the documentation: https://pandas.pydata.org/pandas-docs/stable/user_guide/indexing.html#returning-a-view-versus-a-copy\n",
            "  tv_shows_df['date_added'] = pd.to_datetime(tv_shows_df['date_added'],errors='coerce')\n",
            "<ipython-input-17-88f2beb9b17e>:3: SettingWithCopyWarning: \n",
            "A value is trying to be set on a copy of a slice from a DataFrame.\n",
            "Try using .loc[row_indexer,col_indexer] = value instead\n",
            "\n",
            "See the caveats in the documentation: https://pandas.pydata.org/pandas-docs/stable/user_guide/indexing.html#returning-a-view-versus-a-copy\n",
            "  tv_shows_df['month_added'] = tv_shows_df ['date_added'].dt.month\n",
            "<ipython-input-17-88f2beb9b17e>:4: SettingWithCopyWarning: \n",
            "A value is trying to be set on a copy of a slice from a DataFrame.\n",
            "Try using .loc[row_indexer,col_indexer] = value instead\n",
            "\n",
            "See the caveats in the documentation: https://pandas.pydata.org/pandas-docs/stable/user_guide/indexing.html#returning-a-view-versus-a-copy\n",
            "  tv_shows_df['year_added'] = tv_shows_df['date_added'].dt.year\n"
          ]
        }
      ]
    },
    {
      "cell_type": "markdown",
      "source": [
        "4)Analysis of actors/directors of different types of shows/movies."
      ],
      "metadata": {
        "id": "FHRSCMv-9G-T"
      }
    },
    {
      "cell_type": "code",
      "source": [
        " tv_shows_with_dir = tv_shows_df.dropna(subset='director')\n",
        " movies_shows_with_dir = movies_df.dropna(subset='director')\n",
        " top_movie_directors = movies_shows_with_dir['director'].value_counts().head(10)\n",
        " print('Top 10 Directors for Movies:')\n",
        " print(top_movie_directors)\n",
        " top_tv_shows_directors = tv_shows_with_dir['director'].value_counts().head(10)\n",
        " print('\\nTop 10 Directors for TV Shows:')\n",
        " print(top_tv_shows_directors)"
      ],
      "metadata": {
        "colab": {
          "base_uri": "https://localhost:8080/"
        },
        "id": "JdR6lTuH9H2H",
        "outputId": "6f589bee-af3e-42b5-f671-8249e7cf6d80"
      },
      "execution_count": 18,
      "outputs": [
        {
          "output_type": "stream",
          "name": "stdout",
          "text": [
            "Top 10 Directors for Movies:\n",
            "director\n",
            "Rajiv Chilaka             19\n",
            "Raúl Campos, Jan Suter    18\n",
            "Suhas Kadav               16\n",
            "Marcus Raboy              15\n",
            "Jay Karas                 14\n",
            "Cathy Garcia-Molina       13\n",
            "Jay Chapman               12\n",
            "Martin Scorsese           12\n",
            "Youssef Chahine           12\n",
            "Steven Spielberg          11\n",
            "Name: count, dtype: int64\n",
            "\n",
            "Top 10 Directors for TV Shows:\n",
            "director\n",
            "Alastair Fothergill                    3\n",
            "Rob Seidenglanz                        2\n",
            "Ken Burns                              2\n",
            "Stan Lathan                            2\n",
            "Shin Won-ho                            2\n",
            "Hsu Fu-chun                            2\n",
            "Iginio Straffi                         2\n",
            "Jason Hehir                            1\n",
            "Gerhard Mostert                        1\n",
            "Luis Alfaro, Javier Gómez Santander    1\n",
            "Name: count, dtype: int64\n"
          ]
        }
      ]
    },
    {
      "cell_type": "markdown",
      "source": [
        "5)Does Netflix has more focus on TV Shows than movies in recent years"
      ],
      "metadata": {
        "id": "a001Ve9E9RdF"
      }
    },
    {
      "cell_type": "code",
      "source": [
        "recent_years = 5\n",
        "# Create 'year_added' column for the entire DataFrame\n",
        "df['date_added'] = pd.to_datetime(df['date_added'], errors='coerce')\n",
        "df['year_added'] = df['date_added'].dt.year\n",
        "# Now filter the DataFrame\n",
        "recent_df = df[df['year_added'] >= df['year_added'].max() - recent_years]\n",
        "tv_shows_vs_movies = recent_df.groupby(['year_added', 'type']).size().unstack()\n",
        "tv_shows_vs_movies = tv_shows_vs_movies.fillna(0)\n",
        "print(tv_shows_vs_movies)\n",
        "total_tv_shows = tv_shows_vs_movies['TV Show'].sum()\n",
        "total_movies = tv_shows_vs_movies['Movie'].sum()\n",
        "print(\"\\nTotal Movies added in the last\", recent_years, \"years:\", total_movies)\n",
        "print(\"Total TV Shows added in the last\", recent_years, \"years:\", total_tv_shows)\n",
        "if total_tv_shows > total_movies:\n",
        "    print(\"\\nNetflix has focused more on TV Shows than Movies in the last\", recent_years, \"years.\")\n",
        "else:\n",
        "    print(\"\\nNetflix has focused more on Movies than TV Shows in the last\", recent_years, \"years.\")"
      ],
      "metadata": {
        "colab": {
          "base_uri": "https://localhost:8080/"
        },
        "id": "E_uHs-Qp9SRj",
        "outputId": "b65c5fc8-4310-474c-bae9-97d1c555c764"
      },
      "execution_count": 23,
      "outputs": [
        {
          "output_type": "stream",
          "name": "stdout",
          "text": [
            "type        Movie  TV Show\n",
            "year_added                \n",
            "2016.0        253      165\n",
            "2017.0        839      325\n",
            "2018.0       1237      388\n",
            "2019.0       1424      575\n",
            "2020.0       1284      594\n",
            "2021.0        993      505\n",
            "\n",
            "Total Movies added in the last 5 years: 6030\n",
            "Total TV Shows added in the last 5 years: 2552\n",
            "\n",
            "Netflix has focused more on Movies than TV Shows in the last 5 years.\n"
          ]
        }
      ]
    },
    {
      "cell_type": "markdown",
      "source": [
        "6) Understanding what content is available in different countries"
      ],
      "metadata": {
        "id": "ulyQd_7D-KcJ"
      }
    },
    {
      "cell_type": "code",
      "source": [
        " df_clean= df. dropna (subset='country')\n",
        " df_clean['country'] = df['country'].str.split(', ')\n",
        " df_exploded=df_clean.explode('country')\n",
        " content_by_country= df_exploded['country'].value_counts()\n",
        " print('Top 10 Content available by country:')\n",
        " print(content_by_country.head(10))"
      ],
      "metadata": {
        "colab": {
          "base_uri": "https://localhost:8080/"
        },
        "id": "FxyjY7xh-Da3",
        "outputId": "7af974f0-b8ba-4e0b-a006-6a3c5ffe0a2c"
      },
      "execution_count": 24,
      "outputs": [
        {
          "output_type": "stream",
          "name": "stdout",
          "text": [
            "Top 10 Content available by country:\n",
            "country\n",
            "United States     3689\n",
            "India             1046\n",
            "United Kingdom     804\n",
            "Canada             445\n",
            "France             393\n",
            "Japan              318\n",
            "Spain              232\n",
            "South Korea        231\n",
            "Germany            226\n",
            "Mexico             169\n",
            "Name: count, dtype: int64\n"
          ]
        },
        {
          "output_type": "stream",
          "name": "stderr",
          "text": [
            "<ipython-input-24-7887bae189fb>:2: SettingWithCopyWarning: \n",
            "A value is trying to be set on a copy of a slice from a DataFrame.\n",
            "Try using .loc[row_indexer,col_indexer] = value instead\n",
            "\n",
            "See the caveats in the documentation: https://pandas.pydata.org/pandas-docs/stable/user_guide/indexing.html#returning-a-view-versus-a-copy\n",
            "  df_clean['country'] = df['country'].str.split(', ')\n"
          ]
        }
      ]
    },
    {
      "cell_type": "markdown",
      "source": [
        " - Understanding What Content is Available in Different Countries"
      ],
      "metadata": {
        "id": "rrLcHcWH-Vdz"
      }
    },
    {
      "cell_type": "code",
      "source": [
        "df_clean =df. dropna (subset='country')\n",
        "df_clean['country'] = df['country'].str.split(', ')\n",
        "df_exploded=df_clean.explode('country')\n",
        "content_by_country= df_exploded['country'].value_counts()\n",
        "print('Top 10 Content available by country:')\n",
        "print(content_by_country.head(15))"
      ],
      "metadata": {
        "colab": {
          "base_uri": "https://localhost:8080/"
        },
        "id": "vbtNUnlq-QJv",
        "outputId": "255bb5c3-bbfc-49d3-c897-caee6cd8f86c"
      },
      "execution_count": 26,
      "outputs": [
        {
          "output_type": "stream",
          "name": "stdout",
          "text": [
            "Top 10 Content available by country:\n",
            "country\n",
            "United States     3689\n",
            "India             1046\n",
            "United Kingdom     804\n",
            "Canada             445\n",
            "France             393\n",
            "Japan              318\n",
            "Spain              232\n",
            "South Korea        231\n",
            "Germany            226\n",
            "Mexico             169\n",
            "China              162\n",
            "Australia          160\n",
            "Egypt              117\n",
            "Turkey             113\n",
            "Hong Kong          105\n",
            "Name: count, dtype: int64\n"
          ]
        },
        {
          "output_type": "stream",
          "name": "stderr",
          "text": [
            "<ipython-input-26-11cbf9ec6f83>:2: SettingWithCopyWarning: \n",
            "A value is trying to be set on a copy of a slice from a DataFrame.\n",
            "Try using .loc[row_indexer,col_indexer] = value instead\n",
            "\n",
            "See the caveats in the documentation: https://pandas.pydata.org/pandas-docs/stable/user_guide/indexing.html#returning-a-view-versus-a-copy\n",
            "  df_clean['country'] = df['country'].str.split(', ')\n"
          ]
        }
      ]
    },
    {
      "cell_type": "markdown",
      "source": [
        "- Analyzing Content Type (Movies vs. TV Shows) by Country"
      ],
      "metadata": {
        "id": "guqfDJpp-yhR"
      }
    },
    {
      "cell_type": "code",
      "source": [
        " content_type_by_country= df_exploded.groupby(['country', 'type']).size().unstack(fill_value=0)\n",
        " print(\"\\nTop 10 Distribution of content types (Movies vs TV Shows) by country:\")\n",
        " print(content_type_by_country.head(10))"
      ],
      "metadata": {
        "colab": {
          "base_uri": "https://localhost:8080/"
        },
        "id": "DWSXHbW3-uxf",
        "outputId": "0ec8b1e3-76f5-4077-b662-b1b40cf98f97"
      },
      "execution_count": 27,
      "outputs": [
        {
          "output_type": "stream",
          "name": "stdout",
          "text": [
            "\n",
            "Top 10 Distribution of content types (Movies vs TV Shows) by country:\n",
            "type         Movie  TV Show\n",
            "country                    \n",
            "                 1        1\n",
            "Afghanistan      1        0\n",
            "Albania          1        0\n",
            "Algeria          3        0\n",
            "Angola           1        0\n",
            "Argentina       71       20\n",
            "Armenia          1        0\n",
            "Australia       94       66\n",
            "Austria         11        1\n",
            "Azerbaijan       0        1\n"
          ]
        }
      ]
    },
    {
      "cell_type": "markdown",
      "source": [
        "- Top Content in Each Country"
      ],
      "metadata": {
        "id": "NE6Z0l7--_rb"
      }
    },
    {
      "cell_type": "code",
      "source": [
        "top_content_by_country = df_exploded.groupby([\"country\",\"title\"]).size().sort_values(ascending=False)\n",
        "print(\"\\nTop Content in Each Country:\")\n",
        "print(top_content_by_country)"
      ],
      "metadata": {
        "colab": {
          "base_uri": "https://localhost:8080/"
        },
        "id": "zEuuOcGZ-7_e",
        "outputId": "f98cc8b1-1c2d-4851-e9c1-c1235d80f732"
      },
      "execution_count": 29,
      "outputs": [
        {
          "output_type": "stream",
          "name": "stdout",
          "text": [
            "\n",
            "Top Content in Each Country:\n",
            "country      title                           \n",
            "Zimbabwe     Trophy                              1\n",
            "             D.P.                                1\n",
            "             Eyes of a Thief                     1\n",
            "Afghanistan  The Land of the Enlightened         1\n",
            "Albania      Forgive Us Our Debts                1\n",
            "                                                ..\n",
            "Argentina    Black Snow                          1\n",
            "             Apache: The Life of Carlos Tevez    1\n",
            "             Almost Happy                        1\n",
            "             Alelí                               1\n",
            "             Al acecho                           1\n",
            "Length: 10014, dtype: int64\n"
          ]
        }
      ]
    },
    {
      "cell_type": "markdown",
      "source": [
        "- 1. De ning Problem Statement and Analysing basic metrics"
      ],
      "metadata": {
        "id": "5wVFKGmW_Q9n"
      }
    },
    {
      "cell_type": "code",
      "source": [
        "df.info()"
      ],
      "metadata": {
        "colab": {
          "base_uri": "https://localhost:8080/"
        },
        "id": "HGq915cG_J_7",
        "outputId": "2cf722db-8427-47ed-ff5e-7056e09f3b18"
      },
      "execution_count": 30,
      "outputs": [
        {
          "output_type": "stream",
          "name": "stdout",
          "text": [
            "<class 'pandas.core.frame.DataFrame'>\n",
            "RangeIndex: 8807 entries, 0 to 8806\n",
            "Data columns (total 13 columns):\n",
            " #   Column        Non-Null Count  Dtype         \n",
            "---  ------        --------------  -----         \n",
            " 0   show_id       8807 non-null   object        \n",
            " 1   type          8807 non-null   object        \n",
            " 2   title         8807 non-null   object        \n",
            " 3   director      6173 non-null   object        \n",
            " 4   cast          7982 non-null   object        \n",
            " 5   country       7976 non-null   object        \n",
            " 6   date_added    8709 non-null   datetime64[ns]\n",
            " 7   release_year  8807 non-null   int64         \n",
            " 8   rating        8803 non-null   object        \n",
            " 9   duration      8804 non-null   object        \n",
            " 10  listed_in     8807 non-null   object        \n",
            " 11  description   8807 non-null   object        \n",
            " 12  year_added    8709 non-null   float64       \n",
            "dtypes: datetime64[ns](1), float64(1), int64(1), object(10)\n",
            "memory usage: 894.6+ KB\n"
          ]
        }
      ]
    },
    {
      "cell_type": "markdown",
      "source": [
        "- Non - Graphical Analysis : Value Counts and Unique Attribute"
      ],
      "metadata": {
        "id": "SSCOWhf4_ahx"
      }
    },
    {
      "cell_type": "code",
      "source": [
        " genres = df[\"listed_in\"].str.split(\",\").explode()\n",
        " genre_count = genres.value_counts()\n",
        " print(\"\\nTop 20 Most Common Genres\")\n",
        " print(genre_count.head(15))"
      ],
      "metadata": {
        "colab": {
          "base_uri": "https://localhost:8080/"
        },
        "id": "c_eWiG2q_XY-",
        "outputId": "1c09fd98-0fc6-497b-d7b7-45aae0260264"
      },
      "execution_count": 31,
      "outputs": [
        {
          "output_type": "stream",
          "name": "stdout",
          "text": [
            "\n",
            "Top 20 Most Common Genres\n",
            "listed_in\n",
            " International Movies       2624\n",
            "Dramas                      1600\n",
            "Comedies                    1210\n",
            "Action & Adventure           859\n",
            "Documentaries                829\n",
            " Dramas                      827\n",
            "International TV Shows       774\n",
            " Independent Movies          736\n",
            " TV Dramas                   696\n",
            " Romantic Movies             613\n",
            "Children & Family Movies     605\n",
            " International TV Shows      577\n",
            " Thrillers                   512\n",
            " Comedies                    464\n",
            " TV Comedies                 461\n",
            "Name: count, dtype: int64\n"
          ]
        }
      ]
    },
    {
      "cell_type": "markdown",
      "source": [
        "- Histplot (Distribution of Release Year):"
      ],
      "metadata": {
        "id": "MmcRaSRk_liO"
      }
    },
    {
      "cell_type": "code",
      "source": [
        "plt.figure(figsize=(10,5),)\n",
        "sns.histplot(df[\"release_year\"],kde=True,bins=20,color=\"red\")\n",
        "plt.title(\"Distribution of Release Year\",fontsize=15)\n",
        "plt.xlabel(\"Release Year\")\n",
        "plt.xlim(1900,2023)\n",
        "plt.ylabel(\"Frequency\")\n",
        "plt.show()"
      ],
      "metadata": {
        "colab": {
          "base_uri": "https://localhost:8080/",
          "height": 489
        },
        "id": "k6VJmvdA_6be",
        "outputId": "8d0cc357-fc66-4ab6-d5d3-f15f818add94"
      },
      "execution_count": 33,
      "outputs": [
        {
          "output_type": "display_data",
          "data": {
            "text/plain": [
              "<Figure size 1000x500 with 1 Axes>"
            ],
            "image/png": "[encoded data removed]"
          },
          "metadata": {}
        }
      ]
    },
    {
      "cell_type": "markdown",
      "source": [
        "- Countplot (Number of Movies Vs Tv Shows)\n"
      ],
      "metadata": {
        "id": "6LY1lu6GAD7-"
      }
    },
    {
      "cell_type": "code",
      "source": [
        " plt.figure(figsize=(10,6))\n",
        " sns.countplot(x='type',data=df,color =\"red\")\n",
        " plt.title('Number of Movies Vs Tv Shows',fontsize=15)\n",
        " plt.xlabel('Type')\n",
        " plt.ylabel('Count of Tv shows & Movies')\n",
        " plt.show()"
      ],
      "metadata": {
        "colab": {
          "base_uri": "https://localhost:8080/",
          "height": 566
        },
        "id": "n9WNhSN4AHXg",
        "outputId": "2f599e8d-a06a-469a-e903-527f02a1c46e"
      },
      "execution_count": 34,
      "outputs": [
        {
          "output_type": "display_data",
          "data": {
            "text/plain": [
              "<Figure size 1000x600 with 1 Axes>"
            ],
            "image/png": "[encoded data removed]"
          },
          "metadata": {}
        }
      ]
    },
    {
      "cell_type": "markdown",
      "source": [
        "-  Business Insights\n",
        " 1. Release Year Trends and Content Focus\n",
        " The goal of Net ix's strategy is to appeal to modern viewers by offering more relevant and recent material. The increase in TV series\n",
        " is indicative of the platform's move toward serialized content, which keeps users engaged over time and helps retain subscriptions.\n",
        " 2. Genre Preferences and Market Strategy\n",
        " While international movies are more popular in specialized markets, Net ix's content mix of dramas and foreign lms appeals to a\n",
        " wide range of viewers worldwide. Net ix is able to effectively target both local and worldwide markets.\n",
        " 3. Country-Level Content Strategy\n",
        " Net ix is leveraging strong content production hubs like the USA and India to dominate global streaming markets.\n",
        " 4. Release Time Strategy\n",
        " When there is a spike in viewership, such as around the holidays or during school breaks, Net ix carefully adds fresh content. This is\n",
        " consistent with the habits of subscribers who are more likely to binge-watch during vacations or long weekends.\n",
        " 5. Opportunities in Content Ratings and Audience Engagement\n",
        " Net ix's engagement strategy for adult customers is re ected in its concentration on mature audiences in TV series. A more well\n",
        "rounded content strategy, though, might boost family involvement."
      ],
      "metadata": {
        "id": "d5CDWvWDAQTr"
      }
    },
    {
      "cell_type": "markdown",
      "source": [
        "- Recommendations\n",
        "\n",
        " 1. Expand Focus on TV Shows\n",
        " Net ix should keep creating more original series since there is a rising market for television programming. Focus on short, binge\n",
        "worthy shows that engage viewers and increase subscriber retention.\n",
        " 2. Increase Family and Kid-Friendly Content\n",
        " Invest more in PG and G-rated content that is suitable for families and younger audiences. Create more animated shows,\n",
        " educational series, and family-friendly movies.\n",
        " 3. Balance Between Movies and TV Shows\n",
        " Net ix should continue to have a robust selection of box o ce hits even as it concentrates on TV series. Every quarter, at least one\n",
        " well-known lm should be released.\n",
        " 4. Expand Multi-Season Shows Based on Performance\n",
        " Extend successful TV series to multiple seasons based on viewership and engagement metrics. Introduce popular show spin-offs to\n",
        " keep viewers interested."
      ],
      "metadata": {
        "id": "rR6jIuVbATaY"
      }
    }
  ]
}